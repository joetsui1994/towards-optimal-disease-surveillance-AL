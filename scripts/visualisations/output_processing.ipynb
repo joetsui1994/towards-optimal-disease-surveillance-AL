{
 "cells": [
  {
   "cell_type": "markdown",
   "metadata": {},
   "source": [
    "#### load in modules"
   ]
  },
  {
   "cell_type": "code",
   "execution_count": 2,
   "metadata": {},
   "outputs": [],
   "source": [
    "import os\n",
    "import json\n",
    "import numpy as np\n",
    "import pandas as pd"
   ]
  },
  {
   "cell_type": "markdown",
   "metadata": {},
   "source": [
    "#### read in metadta"
   ]
  },
  {
   "cell_type": "code",
   "execution_count": 70,
   "metadata": {},
   "outputs": [],
   "source": [
    "# path to folder containing metadata from a given run\n",
    "metadata_dir = './example_data/metadata'\n",
    "# extract metadata for each agent (corresponding to a given policy and initial node)\n",
    "# and seed (corresponding to a given simulated outbreak)\n",
    "seed_agent_metadata = {}\n",
    "for metadata_file in os.listdir(metadata_dir):\n",
    "    # extract seed from filename\n",
    "    seed = int(metadata_file.split('.')[0].split('seed')[1])\n",
    "    metadata_path = os.path.join(metadata_dir, metadata_file)\n",
    "    tmp_metadata = json.loads(open(metadata_path).read())\n",
    "    seed_agent_metadata[seed] = { agent['id']: agent for agent in tmp_metadata['agents']}"
   ]
  },
  {
   "cell_type": "markdown",
   "metadata": {},
   "source": [
    "#### read in true underlying infection states"
   ]
  },
  {
   "cell_type": "code",
   "execution_count": 71,
   "metadata": {},
   "outputs": [],
   "source": [
    "# path to folder containing infection states from simulated outbreaks\n",
    "simulated_outbreaks_dir = './example_data/outbreaks'\n",
    "# extract simulated infection states for each seed (corresponding to a given simulated outbreak)\n",
    "seed_infection_states = {}\n",
    "for seed_dir in os.listdir(simulated_outbreaks_dir):\n",
    "    # extract seed from directory name\n",
    "    seed = int(seed_dir.split('seed')[1])\n",
    "    with open(os.path.join(simulated_outbreaks_dir, seed_dir, 'infection_states.csv'), 'r') as f:\n",
    "        infection_states = np.array([int(x) for x in f.read().split(',')])\n",
    "    seed_infection_states[seed] = infection_states"
   ]
  },
  {
   "cell_type": "markdown",
   "metadata": {},
   "source": [
    "#### read in observed infection states (this takes a while to run)"
   ]
  },
  {
   "cell_type": "code",
   "execution_count": 72,
   "metadata": {},
   "outputs": [],
   "source": [
    "# path to folder containing observations by agents\n",
    "observations_dir = './example_data/observations'\n",
    "# extract observations for each seed (corresponding to a given simulated outbreak)\n",
    "# and agent (corresponding to a given policy and initial node)\n",
    "seed_agent_observed_nodes = {}\n",
    "# data looks like this:\n",
    "# seed_agent_observed_nodes = {\n",
    "#     seed: {\n",
    "#         agent_id: {\n",
    "#             time: [observed_nodes]\n",
    "#         }\n",
    "#     }\n",
    "# }\n",
    "for obs_file in os.listdir(observations_dir):\n",
    "    # extract seed from filename\n",
    "    seed = int(obs_file.split('.')[0].split('seed')[1])\n",
    "    agent_id = obs_file.split('.')[1]\n",
    "    obs_path = os.path.join(observations_dir, obs_file)\n",
    "    if seed in seed_agent_observed_nodes:\n",
    "        seed_agent_observed_nodes[seed][agent_id] = {}\n",
    "    else:\n",
    "        seed_agent_observed_nodes[seed] = { agent_id: {} }\n",
    "    with open(obs_path, 'r') as f:\n",
    "        line_i = 0\n",
    "        for line in f:\n",
    "            if line_i > 0:\n",
    "                seed_agent_observed_nodes[seed][agent_id][int(line.split(',')[0])] = np.where(\n",
    "                    np.array(line.split(',')[1:]).astype(int) != -1)[0]\n",
    "            line_i += 1"
   ]
  },
  {
   "cell_type": "markdown",
   "metadata": {},
   "source": [
    "#### read in evaluation metrics (AUC)"
   ]
  },
  {
   "cell_type": "code",
   "execution_count": 73,
   "metadata": {},
   "outputs": [],
   "source": [
    "# path to folder containing evaluation metrics\n",
    "metrics_dir = './example_data/metric_aucs/'\n",
    "# extract evaluation metrics for each seed (corresponding to a given simulated outbreak)\n",
    "# and agent (corresponding to a given policy and initial node)\n",
    "seed_agent_metrics = []\n",
    "# data looks like this:\n",
    "for metrics_file in os.listdir(metrics_dir):\n",
    "    # extract seed from filename\n",
    "    seed = int(metrics_file.split('.')[0].split('seed')[1])\n",
    "    # extract agent-id from filename\n",
    "    agent_id = metrics_file.split('.')[1]\n",
    "    metrics_path = os.path.join(metrics_dir, metrics_file)\n",
    "    tmp_metrics_df = pd.read_csv(metrics_path, sep=',')\n",
    "    # add metadata\n",
    "    tmp_metrics_df['seed'] = seed\n",
    "    tmp_metrics_df['agent_id'] = agent_id\n",
    "    tmp_metrics_df['initial_node'] = int(\n",
    "        seed_agent_metadata[seed][agent_id]['passive_allocation_policy'].split('initial(')[1].split(')')[0])\n",
    "    tmp_metrics_df['active_policy'] = seed_agent_metadata[seed][agent_id]['allocation_policy']\n",
    "\n",
    "    # append to agents_dfs\n",
    "    seed_agent_metrics.append(tmp_metrics_df)\n",
    "\n",
    "# concatenate all agents_dfs\n",
    "seed_agent_metrics_df = pd.concat(seed_agent_metrics)"
   ]
  },
  {
   "cell_type": "markdown",
   "metadata": {},
   "source": [
    "#### calculate max. test budget (threshold)"
   ]
  },
  {
   "cell_type": "code",
   "execution_count": 74,
   "metadata": {},
   "outputs": [],
   "source": [
    "# calculate proportion of infected nodes observed by agent at each time point\n",
    "seed_agent_observed_infected_prop = {}\n",
    "for seed, agent_observed_nodes in seed_agent_observed_nodes.items():\n",
    "    seed_agent_observed_infected_prop[seed] = {}\n",
    "    # calculate number of infected nodes in true infection states\n",
    "    num_infected = np.sum(seed_infection_states[seed] == 1)\n",
    "    for agent_id, observed_nodes in agent_observed_nodes.items():\n",
    "        seed_agent_observed_infected_prop[seed][agent_id] = {}\n",
    "        for t, observed_nodes_t in observed_nodes.items():\n",
    "            num_observed_infected = np.sum(seed_infection_states[seed][observed_nodes_t] == 1)\n",
    "            seed_agent_observed_infected_prop[seed][agent_id][t] = num_observed_infected / num_infected"
   ]
  },
  {
   "cell_type": "code",
   "execution_count": 75,
   "metadata": {},
   "outputs": [],
   "source": [
    "# calculate tests needed for each agent to find all infected nodes\n",
    "threshold = 1\n",
    "seed_agent_tests_to_threshold = {}\n",
    "for seed, agent_observed_infected_prop in seed_agent_observed_infected_prop.items():\n",
    "    seed_agent_tests_to_threshold[seed] = {}\n",
    "    for agent_id, observed_infected_prop in agent_observed_infected_prop.items():\n",
    "        sorted_observed_infected_prop = {k: v for k, v in sorted(observed_infected_prop.items(), key=lambda item: item[0])}\n",
    "        for t, prop in sorted_observed_infected_prop.items():\n",
    "            if prop >= threshold:\n",
    "                seed_agent_tests_to_threshold[seed][agent_id] = t\n",
    "                break"
   ]
  },
  {
   "cell_type": "markdown",
   "metadata": {},
   "source": [
    "#### export proecssed data"
   ]
  },
  {
   "cell_type": "code",
   "execution_count": 76,
   "metadata": {},
   "outputs": [],
   "source": [
    "# export combined metadata to json\n",
    "with open('./example_data/seed_agent_metadata.json', 'w+') as outfile:\n",
    "    json.dump(seed_agent_metadata, outfile)"
   ]
  },
  {
   "cell_type": "code",
   "execution_count": 77,
   "metadata": {},
   "outputs": [],
   "source": [
    "# export combined evaluation metrics (AUC) to csv\n",
    "seed_agent_metrics_df.to_csv('./example_data/seed_agent_metrics.csv', index=False)"
   ]
  },
  {
   "cell_type": "code",
   "execution_count": 78,
   "metadata": {},
   "outputs": [],
   "source": [
    "# export test budget needed by each agent to reach threshold to csv\n",
    "with open('./example_data/tests_to_threshold.csv', 'w') as f:\n",
    "    f.write('seed,agent_id,tests_to_threshold\\n')\n",
    "    for seed, agent_tests_to_threshold in seed_agent_tests_to_threshold.items():\n",
    "        for agent_id, tests_to_threshold in agent_tests_to_threshold.items():\n",
    "            f.write(f'{seed},{agent_id},{tests_to_threshold}\\n')"
   ]
  }
 ],
 "metadata": {
  "kernelspec": {
   "display_name": "Python 3",
   "language": "python",
   "name": "python3"
  },
  "language_info": {
   "codemirror_mode": {
    "name": "ipython",
    "version": 3
   },
   "file_extension": ".py",
   "mimetype": "text/x-python",
   "name": "python",
   "nbconvert_exporter": "python",
   "pygments_lexer": "ipython3",
   "version": "3.9.20"
  }
 },
 "nbformat": 4,
 "nbformat_minor": 2
}
